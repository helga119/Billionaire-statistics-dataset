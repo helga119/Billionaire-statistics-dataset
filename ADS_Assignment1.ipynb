{
 "cells": [
  {
   "cell_type": "code",
   "execution_count": 1,
   "id": "e3b9ad86",
   "metadata": {},
   "outputs": [
    {
     "name": "stdout",
     "output_type": "stream",
     "text": [
      "   rank  finalWorth               category                personName   age  \\\n",
      "0     1      211000       Fashion & Retail  Bernard Arnault & family  74.0   \n",
      "1     2      180000             Automotive                 Elon Musk  51.0   \n",
      "2     3      114000             Technology                Jeff Bezos  59.0   \n",
      "3     4      107000             Technology             Larry Ellison  78.0   \n",
      "4     5      106000  Finance & Investments            Warren Buffett  92.0   \n",
      "\n",
      "         country    city              source             industries  \\\n",
      "0         France   Paris                LVMH       Fashion & Retail   \n",
      "1  United States  Austin       Tesla, SpaceX             Automotive   \n",
      "2  United States  Medina              Amazon             Technology   \n",
      "3  United States   Lanai              Oracle             Technology   \n",
      "4  United States   Omaha  Berkshire Hathaway  Finance & Investments   \n",
      "\n",
      "  countryOfCitizenship  ... cpi_change_country           gdp_country  \\\n",
      "0               France  ...                1.1   $2,715,518,274,227    \n",
      "1        United States  ...                7.5  $21,427,700,000,000    \n",
      "2        United States  ...                7.5  $21,427,700,000,000    \n",
      "3        United States  ...                7.5  $21,427,700,000,000    \n",
      "4        United States  ...                7.5  $21,427,700,000,000    \n",
      "\n",
      "  gross_tertiary_education_enrollment  \\\n",
      "0                                65.6   \n",
      "1                                88.2   \n",
      "2                                88.2   \n",
      "3                                88.2   \n",
      "4                                88.2   \n",
      "\n",
      "  gross_primary_education_enrollment_country life_expectancy_country  \\\n",
      "0                                      102.5                    82.5   \n",
      "1                                      101.8                    78.5   \n",
      "2                                      101.8                    78.5   \n",
      "3                                      101.8                    78.5   \n",
      "4                                      101.8                    78.5   \n",
      "\n",
      "  tax_revenue_country_country total_tax_rate_country population_country  \\\n",
      "0                        24.2                   60.7         67059887.0   \n",
      "1                         9.6                   36.6        328239523.0   \n",
      "2                         9.6                   36.6        328239523.0   \n",
      "3                         9.6                   36.6        328239523.0   \n",
      "4                         9.6                   36.6        328239523.0   \n",
      "\n",
      "  latitude_country longitude_country  \n",
      "0        46.227638          2.213749  \n",
      "1        37.090240        -95.712891  \n",
      "2        37.090240        -95.712891  \n",
      "3        37.090240        -95.712891  \n",
      "4        37.090240        -95.712891  \n",
      "\n",
      "[5 rows x 35 columns]\n"
     ]
    }
   ],
   "source": [
    "import pandas as pd\n",
    "\n",
    "# Assuming BSD.csv is in the same directory as your Jupyter Notebook\n",
    "df = pd.read_csv('BSD.csv')\n",
    "\n",
    "# Use the built-in print function to display the first few rows\n",
    "print(df.head())\n"
   ]
  },
  {
   "cell_type": "code",
   "execution_count": null,
   "id": "a1126654",
   "metadata": {},
   "outputs": [],
   "source": []
  }
 ],
 "metadata": {
  "kernelspec": {
   "display_name": "Python 3 (ipykernel)",
   "language": "python",
   "name": "python3"
  },
  "language_info": {
   "codemirror_mode": {
    "name": "ipython",
    "version": 3
   },
   "file_extension": ".py",
   "mimetype": "text/x-python",
   "name": "python",
   "nbconvert_exporter": "python",
   "pygments_lexer": "ipython3",
   "version": "3.11.5"
  }
 },
 "nbformat": 4,
 "nbformat_minor": 5
}
